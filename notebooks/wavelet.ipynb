{
 "cells": [
  {
   "cell_type": "code",
   "execution_count": 1,
   "id": "370b939f",
   "metadata": {},
   "outputs": [
    {
     "data": {
      "text/plain": [
       "['haar',\n",
       " 'db',\n",
       " 'sym',\n",
       " 'coif',\n",
       " 'bior',\n",
       " 'rbio',\n",
       " 'dmey',\n",
       " 'gaus',\n",
       " 'mexh',\n",
       " 'morl',\n",
       " 'cgau',\n",
       " 'shan',\n",
       " 'fbsp',\n",
       " 'cmor']"
      ]
     },
     "execution_count": 1,
     "metadata": {},
     "output_type": "execute_result"
    }
   ],
   "source": [
    "import pywt\n",
    "pywt.families()"
   ]
  },
  {
   "cell_type": "markdown",
   "id": "fa63bd08",
   "metadata": {},
   "source": [
    "The {func}`wavelist` function with family name passed as an argument is used to\n",
    "obtain the list of wavelet names in each family."
   ]
  },
  {
   "cell_type": "code",
   "execution_count": 2,
   "id": "bad42af0",
   "metadata": {},
   "outputs": [
    {
     "name": "stdout",
     "output_type": "stream",
     "text": [
      "haar family: haar\n",
      "db family: db1, db2, db3, db4, db5, db6, db7, db8, db9, db10, db11, db12, db13, db14, db15, db16, db17, db18, db19, db20, db21, db22, db23, db24, db25, db26, db27, db28, db29, db30, db31, db32, db33, db34, db35, db36, db37, db38\n",
      "sym family: sym2, sym3, sym4, sym5, sym6, sym7, sym8, sym9, sym10, sym11, sym12, sym13, sym14, sym15, sym16, sym17, sym18, sym19, sym20\n",
      "coif family: coif1, coif2, coif3, coif4, coif5, coif6, coif7, coif8, coif9, coif10, coif11, coif12, coif13, coif14, coif15, coif16, coif17\n",
      "bior family: bior1.1, bior1.3, bior1.5, bior2.2, bior2.4, bior2.6, bior2.8, bior3.1, bior3.3, bior3.5, bior3.7, bior3.9, bior4.4, bior5.5, bior6.8\n",
      "rbio family: rbio1.1, rbio1.3, rbio1.5, rbio2.2, rbio2.4, rbio2.6, rbio2.8, rbio3.1, rbio3.3, rbio3.5, rbio3.7, rbio3.9, rbio4.4, rbio5.5, rbio6.8\n",
      "dmey family: dmey\n",
      "gaus family: gaus1, gaus2, gaus3, gaus4, gaus5, gaus6, gaus7, gaus8\n",
      "mexh family: mexh\n",
      "morl family: morl\n",
      "cgau family: cgau1, cgau2, cgau3, cgau4, cgau5, cgau6, cgau7, cgau8\n",
      "shan family: shan\n",
      "fbsp family: fbsp\n",
      "cmor family: cmor\n"
     ]
    }
   ],
   "source": [
    "for family in pywt.families():\n",
    "    print(\"%s family: \" % family + ', '.join(pywt.wavelist(family)))"
   ]
  },
  {
   "cell_type": "markdown",
   "id": "20c3256e",
   "metadata": {},
   "source": [
    "To get the full list of built-in wavelets' names, just use the `pywt.wavelist` function\n",
    "without any arguments.\n",
    "\n",
    "## Creating Wavelet objects\n",
    "\n",
    "Now that we know all the names, let's finally create a `Wavelet` object:"
   ]
  },
  {
   "cell_type": "code",
   "execution_count": 3,
   "id": "57f6766e",
   "metadata": {},
   "outputs": [],
   "source": [
    "w = pywt.Wavelet('db3')"
   ]
  },
  {
   "cell_type": "markdown",
   "id": "dc04ad2e",
   "metadata": {},
   "source": [
    "and, that's it!\n",
    "\n",
    "## Wavelet properties\n",
    "\n",
    "But what can we do with `Wavelet` objects? Well, they carry some\n",
    "interesting pieces of information.\n",
    "\n",
    "First, let's try printing a `Wavelet` object that we used earlier.\n",
    "This shows a brief information about its name, its family name and some\n",
    "properties like orthogonality and symmetry."
   ]
  },
  {
   "cell_type": "code",
   "execution_count": 4,
   "id": "3e90c71e",
   "metadata": {},
   "outputs": [
    {
     "name": "stdout",
     "output_type": "stream",
     "text": [
      "Wavelet db3\n",
      "  Family name:    Daubechies\n",
      "  Short name:     db\n",
      "  Filters length: 6\n",
      "  Orthogonal:     True\n",
      "  Biorthogonal:   True\n",
      "  Symmetry:       asymmetric\n",
      "  DWT:            True\n",
      "  CWT:            False\n"
     ]
    }
   ],
   "source": [
    "print(w)"
   ]
  },
  {
   "cell_type": "markdown",
   "id": "b85b5e30",
   "metadata": {},
   "source": [
    "But the most important bits of information are the wavelet filters coefficients,\n",
    "which are used in Discrete Wavelet Transform. These coefficients\n",
    "can be obtained via the `Wavelet.dec_lo`, `dec_hi`, `rec_lo`,\n",
    "and the `rec_hi` attributes, which\n",
    "correspond to lowpass & highpass decomposition filters, and lowpass &\n",
    "highpass reconstruction filters respectively:"
   ]
  },
  {
   "cell_type": "code",
   "execution_count": 5,
   "id": "38774f6d",
   "metadata": {},
   "outputs": [],
   "source": [
    "def print_array(arr):\n",
    "    print(\"[%s]\" % \", \".join([\"%.14f\" % x for x in arr]))"
   ]
  },
  {
   "cell_type": "markdown",
   "id": "5944e31d",
   "metadata": {},
   "source": [
    "Another way to get the filters data is to use the `filter_bank`\n",
    "attribute, which returns all four filters in a tuple:"
   ]
  },
  {
   "cell_type": "code",
   "execution_count": 6,
   "id": "95ce80f2",
   "metadata": {},
   "outputs": [
    {
     "data": {
      "text/plain": [
       "True"
      ]
     },
     "execution_count": 6,
     "metadata": {},
     "output_type": "execute_result"
    }
   ],
   "source": [
    "w.filter_bank == (w.dec_lo, w.dec_hi, w.rec_lo, w.rec_hi)"
   ]
  },
  {
   "cell_type": "markdown",
   "id": "7cd2ae33",
   "metadata": {},
   "source": [
    "Other properties of a `Wavelet` object are:\n",
    "\n",
    "`name`, `short_family_name`, and `family_name`:"
   ]
  },
  {
   "cell_type": "code",
   "execution_count": 7,
   "id": "a589eb47",
   "metadata": {},
   "outputs": [
    {
     "name": "stdout",
     "output_type": "stream",
     "text": [
      "db3\n",
      "db\n",
      "Daubechies\n"
     ]
    }
   ],
   "source": [
    "print(w.name)\n",
    "print(w.short_family_name)\n",
    "print(w.family_name)"
   ]
  },
  {
   "cell_type": "markdown",
   "id": "4def99bc",
   "metadata": {},
   "source": [
    "Decomposition (`dec_len`) and reconstruction (`rec_len`) filter lengths:"
   ]
  },
  {
   "cell_type": "code",
   "execution_count": 8,
   "id": "2a107bb9",
   "metadata": {},
   "outputs": [
    {
     "data": {
      "text/plain": [
       "6"
      ]
     },
     "execution_count": 8,
     "metadata": {},
     "output_type": "execute_result"
    }
   ],
   "source": [
    "w.dec_len"
   ]
  },
  {
   "cell_type": "code",
   "execution_count": 9,
   "id": "9ebed512",
   "metadata": {},
   "outputs": [
    {
     "data": {
      "text/plain": [
       "6"
      ]
     },
     "execution_count": 9,
     "metadata": {},
     "output_type": "execute_result"
    }
   ],
   "source": [
    "w.rec_len"
   ]
  },
  {
   "cell_type": "markdown",
   "id": "809bb28f",
   "metadata": {},
   "source": [
    "Orthogonality (`orthogonal`) and biorthogonality (`biorthogonal`):"
   ]
  },
  {
   "cell_type": "code",
   "execution_count": 10,
   "id": "10efd333",
   "metadata": {},
   "outputs": [
    {
     "data": {
      "text/plain": [
       "True"
      ]
     },
     "execution_count": 10,
     "metadata": {},
     "output_type": "execute_result"
    }
   ],
   "source": [
    "w.orthogonal"
   ]
  },
  {
   "cell_type": "code",
   "execution_count": 11,
   "id": "bbd4f470",
   "metadata": {},
   "outputs": [
    {
     "data": {
      "text/plain": [
       "True"
      ]
     },
     "execution_count": 11,
     "metadata": {},
     "output_type": "execute_result"
    }
   ],
   "source": [
    "w.biorthogonal"
   ]
  },
  {
   "cell_type": "markdown",
   "id": "bbdb0e13",
   "metadata": {},
   "source": [
    "Symmetry (`symmetry`):"
   ]
  },
  {
   "cell_type": "code",
   "execution_count": 12,
   "id": "c56ee88e",
   "metadata": {},
   "outputs": [
    {
     "name": "stdout",
     "output_type": "stream",
     "text": [
      "asymmetric\n"
     ]
    }
   ],
   "source": [
    "print(w.symmetry)"
   ]
  },
  {
   "cell_type": "markdown",
   "id": "684aa426",
   "metadata": {},
   "source": [
    "Number of vanishing moments for the scaling function `phi` (`vanishing_moments_phi`)\n",
    "and the wavelet function `psi` (`vanishing_moments_psi`), associated with the filters:"
   ]
  },
  {
   "cell_type": "code",
   "execution_count": 13,
   "id": "54c54232",
   "metadata": {},
   "outputs": [
    {
     "data": {
      "text/plain": [
       "0"
      ]
     },
     "execution_count": 13,
     "metadata": {},
     "output_type": "execute_result"
    }
   ],
   "source": [
    " w.vanishing_moments_phi"
   ]
  },
  {
   "cell_type": "code",
   "execution_count": 14,
   "id": "ca1fa3bb",
   "metadata": {},
   "outputs": [
    {
     "data": {
      "text/plain": [
       "3"
      ]
     },
     "execution_count": 14,
     "metadata": {},
     "output_type": "execute_result"
    }
   ],
   "source": [
    "w.vanishing_moments_psi"
   ]
  },
  {
   "cell_type": "markdown",
   "id": "9373dba1",
   "metadata": {},
   "source": [
    "Now when we know a bit about the builtin Wavelets, let's see how to create\n",
    "[custom wavelets](custom-wavelets). These can be created in two ways:\n",
    "\n",
    "1. Passing the filter bank object that implements the `filter_bank` attribute. The\n",
    "   attribute must return four filters coefficients."
   ]
  },
  {
   "cell_type": "code",
   "execution_count": 15,
   "id": "73cd9125",
   "metadata": {},
   "outputs": [],
   "source": [
    "class MyHaarFilterBank(object):\n",
    "    @property\n",
    "    def filter_bank(self):\n",
    "        from math import sqrt\n",
    "        return (\n",
    "          [sqrt(2)/2, sqrt(2)/2], [-sqrt(2)/2, sqrt(2)/2],\n",
    "          [sqrt(2)/2, sqrt(2)/2], [sqrt(2)/2, -sqrt(2)/2]\n",
    "        )\n",
    "\n",
    "my_wavelet = pywt.Wavelet('My Haar Wavelet', filter_bank=MyHaarFilterBank())"
   ]
  },
  {
   "cell_type": "markdown",
   "id": "4631bd4b",
   "metadata": {},
   "source": [
    "2. Passing the filters coefficients directly as the `filter_bank` parameter."
   ]
  },
  {
   "cell_type": "code",
   "execution_count": 16,
   "id": "87b33f12",
   "metadata": {},
   "outputs": [],
   "source": [
    "from math import sqrt\n",
    "my_filter_bank = (\n",
    "  [sqrt(2)/2, sqrt(2)/2], [-sqrt(2)/2, sqrt(2)/2],\n",
    "  [sqrt(2)/2, sqrt(2)/2], [sqrt(2)/2, -sqrt(2)/2]\n",
    ")\n",
    "my_wavelet = pywt.Wavelet('My Haar Wavelet', filter_bank=my_filter_bank)"
   ]
  },
  {
   "cell_type": "markdown",
   "id": "48a85443",
   "metadata": {},
   "source": [
    "Note that such custom wavelets **will not** have all the properties set\n",
    "to correct values and some of them could be missing:"
   ]
  },
  {
   "cell_type": "code",
   "execution_count": 17,
   "id": "6e145a03",
   "metadata": {},
   "outputs": [
    {
     "name": "stdout",
     "output_type": "stream",
     "text": [
      "Wavelet My Haar Wavelet\n",
      "  Family name:\n",
      "  Short name:\n",
      "  Filters length: 2\n",
      "  Orthogonal:     False\n",
      "  Biorthogonal:   False\n",
      "  Symmetry:       unknown\n",
      "  DWT:            True\n",
      "  CWT:            False\n"
     ]
    }
   ],
   "source": [
    "print(my_wavelet)"
   ]
  },
  {
   "cell_type": "markdown",
   "id": "9b6c8fc4",
   "metadata": {},
   "source": [
    "You can, however, set a couple of them on your own:"
   ]
  },
  {
   "cell_type": "code",
   "execution_count": 18,
   "id": "270a54b0",
   "metadata": {},
   "outputs": [],
   "source": [
    "my_wavelet.orthogonal = True\n",
    "my_wavelet.biorthogonal = True"
   ]
  },
  {
   "cell_type": "markdown",
   "id": "156d647a",
   "metadata": {},
   "source": [
    "Let's view the values of the custom wavelet properties again:"
   ]
  },
  {
   "cell_type": "code",
   "execution_count": 19,
   "id": "9f2d9443",
   "metadata": {},
   "outputs": [
    {
     "name": "stdout",
     "output_type": "stream",
     "text": [
      "Wavelet My Haar Wavelet\n",
      "  Family name:\n",
      "  Short name:\n",
      "  Filters length: 2\n",
      "  Orthogonal:     True\n",
      "  Biorthogonal:   True\n",
      "  Symmetry:       unknown\n",
      "  DWT:            True\n",
      "  CWT:            False\n"
     ]
    }
   ],
   "source": [
    "print(my_wavelet)"
   ]
  },
  {
   "cell_type": "markdown",
   "id": "2de05481",
   "metadata": {},
   "source": [
    "## And now... the `wavefun`!\n",
    "\n",
    "We all know that the fun with wavelets is in wavelet functions.\n",
    "Now, what would this package be without a tool to compute wavelet\n",
    "and scaling functions approximations?\n",
    "\n",
    "This is the purpose of the `wavefun()` method, which is used to\n",
    "approximate scaling function (`phi`) and wavelet function (`psi`) at the\n",
    "given level of refinement, based on the filters coefficients.\n",
    "\n",
    "The number of returned values varies depending on the wavelet's\n",
    "orthogonality property. For orthogonal wavelets, the result is a tuple\n",
    "with the scaling function, wavelet function, and the xgrid coordinates."
   ]
  },
  {
   "cell_type": "code",
   "execution_count": null,
   "id": "0cc2d796",
   "metadata": {},
   "outputs": [],
   "source": [
    "w = pywt.Wavelet('sym3')\n",
    "w.orthogonal"
   ]
  },
  {
   "cell_type": "code",
   "execution_count": null,
   "id": "e1360b59",
   "metadata": {},
   "outputs": [],
   "source": [
    "(phi, psi, x) = w.wavefun(level=5)"
   ]
  },
  {
   "cell_type": "markdown",
   "id": "ded3e375",
   "metadata": {},
   "source": [
    "For biorthogonal (non-orthogonal) wavelets, different scaling and wavelet\n",
    "functions are used for decomposition and reconstruction, and thus, five\n",
    "elements are returned: decomposition scaling and wavelet functions\n",
    "approximations, reconstruction scaling and wavelet functions approximations,\n",
    "and the xgrid."
   ]
  },
  {
   "cell_type": "code",
   "execution_count": null,
   "id": "ea164221",
   "metadata": {},
   "outputs": [],
   "source": [
    "w = pywt.Wavelet('bior1.3')\n",
    "w.orthogonal"
   ]
  },
  {
   "cell_type": "code",
   "execution_count": null,
   "id": "48752b34",
   "metadata": {},
   "outputs": [],
   "source": [
    "(phi_d, psi_d, phi_r, psi_r, x) = w.wavefun(level=5)"
   ]
  },
  {
   "cell_type": "markdown",
   "id": "e803a392",
   "metadata": {},
   "source": [
    ":::{seealso}\n",
    "You can find live examples of the usage of `wavefun()` and\n",
    "images of all the built-in wavelets on the\n",
    "[Wavelet Properties Browser](http://wavelets.pybytes.com) page.\n",
    "\n",
    "However, **this website is no longer actively maintained** and does not\n",
    "include every wavelet present in PyWavelets. The precision of the wavelet\n",
    "coefficients at that site is also lower than those included in PyWavelets.\n",
    ":::"
   ]
  }
 ],
 "metadata": {
  "kernelspec": {
   "display_name": "Python 3 (ipykernel)",
   "language": "python",
   "name": "python3"
  },
  "language_info": {
   "codemirror_mode": {
    "name": "ipython",
    "version": 3
   },
   "file_extension": ".py",
   "mimetype": "text/x-python",
   "name": "python",
   "nbconvert_exporter": "python",
   "pygments_lexer": "ipython3",
   "version": "3.13.7"
  }
 },
 "nbformat": 4,
 "nbformat_minor": 5
}
