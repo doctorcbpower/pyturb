{
 "cells": [
  {
   "cell_type": "code",
   "execution_count": null,
   "id": "c71938cc-b572-4c11-aa73-f78c784b065f",
   "metadata": {},
   "outputs": [],
   "source": [
    "import matplotlib.pyplot as plt\n",
    "from scipy import spatial\n",
    "import numpy as np\n",
    "\n",
    "from importlib import reload\n",
    "\n",
    "%reload_ext autoreload\n",
    "%autoreload 2\n",
    "    \n",
    "import pyturb\n",
    "reload(pyturb)\n",
    "\n",
    "from time import sleep, perf_counter\n",
    "\n",
    "import gc"
   ]
  },
  {
   "cell_type": "code",
   "execution_count": null,
   "id": "e0b3245c-f921-4a27-bdfa-e47a7bfa601c",
   "metadata": {},
   "outputs": [],
   "source": [
    "# Tools to generate turbulent velocity fields\n",
    "turb = pyturb.CreateTurbulentVelocityField(grid_size=64,v_turb=10.,box_size=10,seed=143289)\n",
    "# Tools to measure velocity fields\n",
    "mturb = pyturb.measure_turbulence.MeasureVelocityField()\n",
    "# Tools to generate gridded velocity fields given particle data\n",
    "gt = pyturb.GriddingTools()\n"
   ]
  },
  {
   "cell_type": "code",
   "execution_count": null,
   "id": "a49536f8-a0a6-4691-8f5a-3e6aa9fdd66e",
   "metadata": {
    "scrolled": true
   },
   "outputs": [],
   "source": [
    "resolution = [32, 64, 128]\n",
    "seed = np.ones(len(resolution),dtype=np.int64)*turb.seed\n",
    "vel_field = [None]*len(resolution)\n",
    "vel_field_smooth = [None]*len(resolution)\n",
    "\n",
    "for i,res in enumerate(resolution):\n",
    "    print(f\"Generating velocity field data at {res:d} mesh resolution\")\n",
    "    # Generate velocity field at desired resolution\n",
    "    tstart=perf_counter()\n",
    "    turb = pyturb.CreateTurbulentVelocityField(grid_size=res,v_turb=10.,box_size=10,seed=seed[i])    \n",
    "    vel_field[i] = turb.generate_kolmogorov_field(energy_spectrum_index=5./3., energy_scale=1.0)\n",
    "    tfinish=perf_counter()\n",
    "    print(f\"Finished generating velocity field in {tfinish-tstart:.4f}\")\n",
    "    # Generate a gridded version of the velocity field\n",
    "    (vx,vy,vz) = (turb.vx.ravel(),turb.vy.ravel(),turb.vz.ravel())\n",
    "    vel = np.stack([vx, vy, vz], axis=-1)\n",
    "    (x,y,z) = (turb.X.ravel(),turb.Y.ravel(),turb.Z.ravel())\n",
    "    pos = np.stack([x, y, z], axis=-1)\n",
    "    grid_limits =  np.array([0,1,0,1,0,1], dtype=np.float64)*turb.box_size\n",
    "    grid_size = (res,res,res)\n",
    "    tstart=perf_counter()\n",
    "    vel_field_smooth[i] = gt.smooth_to_grid(pos, vel, grid_size, grid_limits, method=\"CIC\")\n",
    "    tfinish=perf_counter()\n",
    "    print(f\"Finished smoothing velocity field from point data in {tfinish-tstart:.4f}\\n\")\n",
    "    \n",
    "print(\"Finished generating velocity fields\")\n"
   ]
  },
  {
   "cell_type": "code",
   "execution_count": null,
   "id": "8b197b2c-390c-45a2-b4e5-d1530d11d944",
   "metadata": {},
   "outputs": [],
   "source": [
    "# fig, axes = gt.plot_3d_projections(vel_field[0], grid_limits, mode='projection', slice_width=3, projection='mean', cmap='plasma', units='kpc', title=\"Turbulent Velocity Field - N=32\")\n",
    "# fig, axes = gt.plot_3d_projections(vel_field[1], grid_limits, mode='projection', slice_width=3, projection='mean', cmap='plasma', units='kpc', title=\"Turbulent Velocity Field - N=64\")\n",
    "# fig, axes = gt.plot_3d_projections(vel_field[2], grid_limits, mode='projection', slice_width=3, projection='mean', cmap='plasma', units='kpc', title=\"Turbulent Velocity Field - N=128\")\n",
    "# fig, axes = gt.plot_3d_projections(vel_field[3], grid_limits, mode='projection', slice_width=3, projection='mean', cmap='plasma', units='kpc', title=\"Turbulent Velocity Field - N=256\")"
   ]
  },
  {
   "cell_type": "code",
   "execution_count": null,
   "id": "2c668cb2-0863-47b4-8848-41ffeb904efe",
   "metadata": {},
   "outputs": [],
   "source": [
    "# fig, axes = gt.plot_3d_projections(vel_field_smooth[0], grid_limits, mode='projection', slice_width=3, projection='mean', cmap='plasma', units='kpc', title=\"Turbulent Velocity Field - N=32 (CIC Smoothed)\")\n",
    "# fig, axes = gt.plot_3d_projections(vel_field_smooth[1], grid_limits, mode='projection', slice_width=3, projection='mean', cmap='plasma', units='kpc', title=\"Turbulent Velocity Field - N=64 (CIC Smoothed)\")\n",
    "# fig, axes = gt.plot_3d_projections(vel_field_smooth[2], grid_limits, mode='projection', slice_width=3, projection='mean', cmap='plasma', units='kpc', title=\"Turbulent Velocity Field - N=128 (CIC Smoothed)\")\n",
    "# fig, axes = gt.plot_3d_projections(vel_field_smooth[3], grid_limits, mode='projection', slice_width=3, projection='mean', cmap='plasma', units='kpc', title=\"Turbulent Velocity Field - N=256 (CIC Smoothed)\")"
   ]
  },
  {
   "cell_type": "code",
   "execution_count": null,
   "id": "6c4bc2c5-d4ee-4da9-b4f8-eb85d95ea13a",
   "metadata": {},
   "outputs": [],
   "source": [
    "# # Compute for the velocity field generated by pyturb...\n",
    "# k0,pk0,_=mturb.fft().compute_power_spectrum(vel_field[0], box_size=turb.box_size, component='energy', method='radial')\n",
    "# # ... and compute for the velocity field constructed from the positions and velocities\n",
    "# k1,pk1,_=mturb.fft().compute_power_spectrum(vel_field[1], box_size=turb.box_size, component='energy', method='radial')\n",
    "# # ... and compute for the velocity field constructed from the positions and velocities\n",
    "# k2,pk2,_=mturb.fft().compute_power_spectrum(vel_field[2], box_size=turb.box_size, component='energy', method='radial')\n",
    "# # ... and compute for the velocity field constructed from the positions and velocities\n",
    "# k3,pk3,_=mturb.fft().compute_power_spectrum(vel_field[3], box_size=turb.box_size, component='energy', method='radial')\n"
   ]
  },
  {
   "cell_type": "code",
   "execution_count": null,
   "id": "470360db-e6ef-4eed-b1cd-5b75b9e893c7",
   "metadata": {},
   "outputs": [],
   "source": [
    "# # Compute for the velocity field generated by pyturb...\n",
    "# ks0,pks0,_=mturb.fft().compute_power_spectrum(vel_field_smooth[0], box_size=turb.box_size, component='energy', method='radial')\n",
    "# # ... and compute for the velocity field constructed from the positions and velocities\n",
    "# ks1,pks1,_=mturb.fft().compute_power_spectrum(vel_field_smooth[1], box_size=turb.box_size, component='energy', method='radial')\n",
    "# # ... and compute for the velocity field constructed from the positions and velocities\n",
    "# ks2,pks2,_=mturb.fft().compute_power_spectrum(vel_field_smooth[2], box_size=turb.box_size, component='energy', method='radial')\n",
    "# # ... and compute for the velocity field constructed from the positions and velocities\n",
    "# ks3,pks3,_=mturb.fft().compute_power_spectrum(vel_field_smooth[3], box_size=turb.box_size, component='energy', method='radial')"
   ]
  },
  {
   "cell_type": "code",
   "execution_count": null,
   "id": "9447cfda-2136-4e83-b268-f674c1e81191",
   "metadata": {},
   "outputs": [],
   "source": [
    "# plt.xlabel(r\"k [$kpc^{-1}$]\")\n",
    "# plt.ylabel(r\"P$_\\text{turb}$(k) [$kpc^{3}$]\")\n",
    "# plt.xscale(\"log\")\n",
    "# plt.yscale(\"log\")\n",
    "# plt.plot(k0,pk0,color=\"red\",label=\"N=32\")\n",
    "# plt.plot(k1,pk1,color=\"blue\",label=\"N=64\")\n",
    "# plt.plot(k2,pk2,color=\"green\",label=\"N=128\")\n",
    "# plt.plot(k3,pk3,color=\"orange\",label=\"N=256\")\n",
    "\n",
    "# plt.plot(ks0,pks0,\":\",color=\"red\",label=\"N=32 (Smoothed)\")\n",
    "# plt.plot(ks1,pks1,\":\",color=\"blue\",label=\"N=64 (Smoothed)\")\n",
    "# plt.plot(ks2,pks2,\":\",color=\"green\",label=\"N=128 (Smoothed)\")\n",
    "# plt.plot(ks3,pks3,\":\",color=\"orange\",label=\"N=256 (Smoothed)\")\n",
    "\n",
    "# plt.grid(True)\n",
    "# plt.legend()\n",
    "\n",
    "# fit_mask = (k3 > 20) & (k3 < 30)\n",
    "# if np.any(fit_mask):\n",
    "#     log_k_fit = np.log10(k3[fit_mask])\n",
    "#     log_P_fit = np.log10(pk3[fit_mask])\n",
    "#     slope, intercept = np.polyfit(log_k_fit, log_P_fit, 1)\n",
    "\n",
    "# print(f\"Measured power law slope: {slope:.3f}\")\n",
    "# print(f\"Expected slope (Kolmogorov): {-11/3:.3f}\")\n",
    "# print(f\"Difference: {abs(slope + 11/3):.3f}\")\n",
    "    \n",
    "# # Add theoretical line\n",
    "# k_theory = np.logspace(0, 2, 50)\n",
    "# P_theory = k_theory**(-11/3)\n",
    "# pk3_30=np.interp(k_theory[30],k3,pk3)\n",
    "# P_theory *= pk3_30 / P_theory[30]  # Normalize\n",
    "# plt.plot(k_theory, P_theory, '--', color='black', label=r'$k^{-11/3}$')\n",
    "# plt.legend()\n",
    "\n"
   ]
  },
  {
   "cell_type": "code",
   "execution_count": null,
   "id": "e94eb469-0968-431e-93d2-e980f3ab35de",
   "metadata": {},
   "outputs": [],
   "source": [
    "# turb.write_to_file(\"./turbulent_ics.hdf5\")\n"
   ]
  },
  {
   "cell_type": "code",
   "execution_count": null,
   "id": "5560a8be-5939-477d-a6b7-4b63b627bf42",
   "metadata": {},
   "outputs": [],
   "source": [
    "masses=np.ones(pos.shape[0])/pos.shape[0]\n",
    "mach=np.ones(pos.shape[0])\n",
    "local_density=np.ones(pos.shape[0])\n",
    "\n",
    "print(type(local_density))\n",
    "print(masses.size)\n",
    "# Initialise turbulence filter (densities estimated internally here)\n",
    "tf = mturb.kinematics(pos, vel, masses, mach, local_density=None, N_neighbours=8)\n",
    "print(tf.local_density)\n",
    "# Run turbulence calculation\n",
    "# V_turb, epsilons, n_iter = tf.compute_all()\n"
   ]
  },
  {
   "cell_type": "code",
   "execution_count": null,
   "id": "2ad4630c-1f4e-4d28-b2d4-d84ae2b58252",
   "metadata": {},
   "outputs": [],
   "source": [
    "V_turb, epsilons, n_iter = tf.compute_all()\n"
   ]
  },
  {
   "cell_type": "code",
   "execution_count": null,
   "id": "c1a9c6de-7c49-4a87-9808-40b91d2bd898",
   "metadata": {},
   "outputs": [],
   "source": []
  }
 ],
 "metadata": {
  "kernelspec": {
   "display_name": "Python 3 (ipykernel)",
   "language": "python",
   "name": "python3"
  },
  "language_info": {
   "codemirror_mode": {
    "name": "ipython",
    "version": 3
   },
   "file_extension": ".py",
   "mimetype": "text/x-python",
   "name": "python",
   "nbconvert_exporter": "python",
   "pygments_lexer": "ipython3",
   "version": "3.13.0"
  }
 },
 "nbformat": 4,
 "nbformat_minor": 5
}
